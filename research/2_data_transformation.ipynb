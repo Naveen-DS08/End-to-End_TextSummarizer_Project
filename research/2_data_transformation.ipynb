{
 "cells": [
  {
   "cell_type": "code",
   "execution_count": 1,
   "metadata": {},
   "outputs": [
    {
     "data": {
      "text/plain": [
       "'d:\\\\VS_code\\\\MLops\\\\11_End-to-End_Projects\\\\End-to-End_TextSummarizer_Project\\\\research'"
      ]
     },
     "execution_count": 1,
     "metadata": {},
     "output_type": "execute_result"
    }
   ],
   "source": [
    "import os \n",
    "%pwd"
   ]
  },
  {
   "cell_type": "code",
   "execution_count": 2,
   "metadata": {},
   "outputs": [
    {
     "data": {
      "text/plain": [
       "'d:\\\\VS_code\\\\MLops\\\\11_End-to-End_Projects\\\\End-to-End_TextSummarizer_Project'"
      ]
     },
     "execution_count": 2,
     "metadata": {},
     "output_type": "execute_result"
    }
   ],
   "source": [
    "os.chdir(\"..\")\n",
    "%pwd"
   ]
  },
  {
   "cell_type": "markdown",
   "metadata": {},
   "source": [
    "## Basic Config"
   ]
  },
  {
   "cell_type": "code",
   "execution_count": 3,
   "metadata": {},
   "outputs": [],
   "source": [
    "from dataclasses import dataclass \n",
    "from pathlib import Path \n",
    "\n",
    "@dataclass \n",
    "class DataTransformationConfig:\n",
    "    root_dir: Path \n",
    "    data_path: Path \n",
    "    tokenizer_name: Path"
   ]
  },
  {
   "cell_type": "code",
   "execution_count": 4,
   "metadata": {},
   "outputs": [],
   "source": [
    "from src.TextSummarizer.constants import * \n",
    "from src.TextSummarizer.utils.common import read_yaml, create_directories"
   ]
  },
  {
   "cell_type": "code",
   "execution_count": 5,
   "metadata": {},
   "outputs": [],
   "source": [
    "class ConfigurationManager:\n",
    "    def __init__(self,\n",
    "                 config_file_path = CONFIG_FILE_PATH, \n",
    "                 params_file_path = PARAMS_FILE_PATH):\n",
    "        self.config = read_yaml(config_file_path)\n",
    "        self.params = read_yaml(params_file_path)\n",
    "\n",
    "        create_directories([self.config.artifacts_root_dir])\n",
    "\n",
    "    def get_data_transformation_config(self)-> DataTransformationConfig:\n",
    "        config = self.config.data_transformation\n",
    "\n",
    "        create_directories([config.root_dir])\n",
    "\n",
    "        data_transformation_config = DataTransformationConfig(\n",
    "            root_dir= config.root_dir, \n",
    "            data_path= config.data_path, \n",
    "            tokenizer_name= config.tokenizer_name\n",
    "        )\n",
    "        return data_transformation_config"
   ]
  },
  {
   "cell_type": "code",
   "execution_count": 6,
   "metadata": {},
   "outputs": [
    {
     "name": "stderr",
     "output_type": "stream",
     "text": [
      "d:\\VS_code\\MLops\\11_End-to-End_Projects\\End-to-End_TextSummarizer_Project\\myenv\\Lib\\site-packages\\tqdm\\auto.py:21: TqdmWarning: IProgress not found. Please update jupyter and ipywidgets. See https://ipywidgets.readthedocs.io/en/stable/user_install.html\n",
      "  from .autonotebook import tqdm as notebook_tqdm\n"
     ]
    }
   ],
   "source": [
    "import os \n",
    "from src.TextSummarizer.logging import logger \n",
    "\n",
    "from transformers import AutoTokenizer "
   ]
  },
  {
   "cell_type": "code",
   "execution_count": 7,
   "metadata": {},
   "outputs": [],
   "source": [
    "# !pip install datasets\n",
    "# import datasets \n",
    "\n",
    "from datasets import load_from_disk"
   ]
  },
  {
   "cell_type": "markdown",
   "metadata": {},
   "source": [
    "### Data Transformation Components"
   ]
  },
  {
   "cell_type": "code",
   "execution_count": 8,
   "metadata": {},
   "outputs": [],
   "source": [
    "class DataTransformation:\n",
    "    def __init__(self,\n",
    "                 config:DataTransformationConfig):\n",
    "        self.config = config \n",
    "        self.tokenizer = AutoTokenizer.from_pretrained(config.tokenizer_name)\n",
    "\n",
    "    def convert_examples_to_features(self, example_batch):\n",
    "        input_encoding = self.tokenizer(example_batch[\"dialogue\"], max_length=1024, truncation=True)\n",
    "\n",
    "        with self.tokenizer.as_target_tokenizer():\n",
    "            target_encoding = self.tokenizer(example_batch[\"summary\"], max_length=1024, truncation=True)\n",
    "\n",
    "        return {\n",
    "            \"input_ids\": input_encoding[\"input_ids\"],\n",
    "            \"attention_mask\": input_encoding[\"attention_mask\"],\n",
    "            \"labels\": target_encoding[\"input_ids\"]\n",
    "            }\n",
    "    \n",
    "    def convert(self):\n",
    "        dataset_samsum = load_from_disk(self.config.data_path)\n",
    "        dataset_samsum_pt = dataset_samsum.map(self.convert_examples_to_features, batched=True)\n",
    "        # save to disk \n",
    "        dataset_samsum_pt.save_to_disk(os.path.join(self.config.root_dir, \"samsum_dataset\"))\n"
   ]
  },
  {
   "cell_type": "code",
   "execution_count": 9,
   "metadata": {},
   "outputs": [
    {
     "name": "stdout",
     "output_type": "stream",
     "text": [
      "[2025-01-21 22:55:20,506: INFO: common: yaml file config\\config.yaml loaded successfully]\n",
      "[2025-01-21 22:55:20,924: INFO: common: yaml file params.yaml loaded successfully]\n",
      "[2025-01-21 22:55:21,044: INFO: common: Created Directory at: artifacts]\n",
      "[2025-01-21 22:55:21,259: INFO: common: Created Directory at: artifacts/data_transformation]\n"
     ]
    },
    {
     "name": "stderr",
     "output_type": "stream",
     "text": [
      "d:\\VS_code\\MLops\\11_End-to-End_Projects\\End-to-End_TextSummarizer_Project\\myenv\\Lib\\site-packages\\huggingface_hub\\file_download.py:140: UserWarning: `huggingface_hub` cache-system uses symlinks by default to efficiently store duplicated files but your machine does not support them in C:\\Users\\Nisha\\.cache\\huggingface\\hub\\models--google--pegasus-cnn_dailymail. Caching files will still work but in a degraded version that might require more space on your disk. This warning can be disabled by setting the `HF_HUB_DISABLE_SYMLINKS_WARNING` environment variable. For more details, see https://huggingface.co/docs/huggingface_hub/how-to-cache#limitations.\n",
      "To support symlinks on Windows, you either need to activate Developer Mode or to run Python as an administrator. In order to activate developer mode, see this article: https://docs.microsoft.com/en-us/windows/apps/get-started/enable-your-device-for-development\n",
      "  warnings.warn(message)\n",
      "Map:   0%|          | 0/14732 [00:00<?, ? examples/s]d:\\VS_code\\MLops\\11_End-to-End_Projects\\End-to-End_TextSummarizer_Project\\myenv\\Lib\\site-packages\\transformers\\tokenization_utils_base.py:3961: UserWarning: `as_target_tokenizer` is deprecated and will be removed in v5 of Transformers. You can tokenize your labels by using the argument `text_target` of the regular `__call__` method (either in the same call as your input texts if you use the same keyword arguments, or in a separate call.\n",
      "  warnings.warn(\n",
      "Map: 100%|██████████| 14732/14732 [00:20<00:00, 704.34 examples/s]\n",
      "Map: 100%|██████████| 819/819 [00:02<00:00, 389.25 examples/s]\n",
      "Map: 100%|██████████| 818/818 [00:00<00:00, 905.63 examples/s]\n",
      "Saving the dataset (1/1 shards): 100%|██████████| 14732/14732 [00:00<00:00, 37778.09 examples/s]\n",
      "Saving the dataset (1/1 shards): 100%|██████████| 819/819 [00:00<00:00, 13796.39 examples/s]\n",
      "Saving the dataset (1/1 shards): 100%|██████████| 818/818 [00:00<00:00, 6911.58 examples/s]\n"
     ]
    }
   ],
   "source": [
    "config = ConfigurationManager()\n",
    "\n",
    "data_transformation_config = config.get_data_transformation_config()\n",
    "data_transformation = DataTransformation(config = data_transformation_config)\n",
    "data_transformation.convert()"
   ]
  },
  {
   "cell_type": "code",
   "execution_count": null,
   "metadata": {},
   "outputs": [],
   "source": []
  },
  {
   "cell_type": "code",
   "execution_count": null,
   "metadata": {},
   "outputs": [],
   "source": []
  },
  {
   "cell_type": "code",
   "execution_count": null,
   "metadata": {},
   "outputs": [],
   "source": []
  }
 ],
 "metadata": {
  "kernelspec": {
   "display_name": "myenv",
   "language": "python",
   "name": "python3"
  },
  "language_info": {
   "codemirror_mode": {
    "name": "ipython",
    "version": 3
   },
   "file_extension": ".py",
   "mimetype": "text/x-python",
   "name": "python",
   "nbconvert_exporter": "python",
   "pygments_lexer": "ipython3",
   "version": "3.11.0"
  }
 },
 "nbformat": 4,
 "nbformat_minor": 2
}
